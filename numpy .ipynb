{
 "cells": [
  {
   "cell_type": "code",
   "execution_count": 6,
   "metadata": {},
   "outputs": [
    {
     "data": {
      "text/plain": [
       "dtype('float64')"
      ]
     },
     "execution_count": 6,
     "metadata": {},
     "output_type": "execute_result"
    }
   ],
   "source": [
    "import numpy as np\n",
    "my_list = [1, 2, 3.1, 4, 5]\n",
    "np.array(my_list).dtype"
   ]
  },
  {
   "cell_type": "code",
   "execution_count": 7,
   "metadata": {},
   "outputs": [
    {
     "data": {
      "text/plain": [
       "array([[0, 9, 4, 0, 5],\n",
       "       [3, 6, 2, 6, 6],\n",
       "       [0, 4, 1, 9, 2],\n",
       "       [3, 2, 2, 4, 9],\n",
       "       [6, 8, 4, 4, 4]])"
      ]
     },
     "execution_count": 7,
     "metadata": {},
     "output_type": "execute_result"
    }
   ],
   "source": [
    "np.zeros (5)\n",
    "np.ones ((5, 10))\n",
    "np.random.randint (0, 10, (5, 5))"
   ]
  },
  {
   "cell_type": "markdown",
   "metadata": {},
   "source": [
    "#The Alien Invasion"
   ]
  },
  {
   "cell_type": "code",
   "execution_count": 8,
   "metadata": {},
   "outputs": [],
   "source": [
    "import numpy as np\n",
    "\n",
    "\n",
    "fleet_data = np.array([\n",
    "    [120, 40, 25, 2.5, 10],\n",
    "    [85, 60, 30, 5.0, 5],\n",
    "    [100, 50, 35, 4.5, 7],\n",
    "    [120, 40, 25, 2.5, 9],\n",
    "    [150, 50, 30, 3.0, 10],\n",
    "], dtype=np.float32)"
   ]
  },
  {
   "cell_type": "code",
   "execution_count": 9,
   "metadata": {},
   "outputs": [
    {
     "data": {
      "text/plain": [
       "(5, 5)"
      ]
     },
     "execution_count": 9,
     "metadata": {},
     "output_type": "execute_result"
    }
   ],
   "source": [
    "fleet_data.shape"
   ]
  },
  {
   "cell_type": "markdown",
   "metadata": {},
   "source": [
    "#First exercise. Calculate and print the total number of spaceships"
   ]
  },
  {
   "cell_type": "code",
   "execution_count": 19,
   "metadata": {},
   "outputs": [
    {
     "name": "stdout",
     "output_type": "stream",
     "text": [
      "Total number of spaceships: 5\n"
     ]
    }
   ],
   "source": [
    "total_spaceships = len(fleet_data)\n",
    "print(\"Total number of spaceships:\", total_spaceships)"
   ]
  },
  {
   "cell_type": "markdown",
   "metadata": {},
   "source": [
    "#Second exercise: Calculate and print the average spaceship size (volume)"
   ]
  },
  {
   "cell_type": "code",
   "execution_count": 13,
   "metadata": {},
   "outputs": [
    {
     "name": "stdout",
     "output_type": "stream",
     "text": [
      "Average spaceship size (volume): 158600.0\n"
     ]
    }
   ],
   "source": [
    "average_volume = np.mean(volumes)\n",
    "print(\"Average spaceship size (volume):\", average_volume)"
   ]
  },
  {
   "cell_type": "markdown",
   "metadata": {},
   "source": [
    "#Thirst exercicec: Identify and print the speed of the fastest spaceship"
   ]
  },
  {
   "cell_type": "code",
   "execution_count": 14,
   "metadata": {},
   "outputs": [
    {
     "name": "stdout",
     "output_type": "stream",
     "text": [
      "Speed of the fastest spaceship: 5.0 km/s\n"
     ]
    }
   ],
   "source": [
    "fastest_speed = np.max(fleet_data[:, 3])\n",
    "print(\"Speed of the fastest spaceship:\", fastest_speed, \"km/s\")"
   ]
  },
  {
   "cell_type": "markdown",
   "metadata": {},
   "source": [
    "#Fourth exercise: Determine and print the number of spaceships with the maximum weapon power."
   ]
  },
  {
   "cell_type": "code",
   "execution_count": 16,
   "metadata": {},
   "outputs": [
    {
     "name": "stdout",
     "output_type": "stream",
     "text": [
      "Number of spaceships with the maximum weapon power: 2\n"
     ]
    }
   ],
   "source": [
    "max_weapon_power = np.max(fleet_data[:, 4])\n",
    "num_spaceships_max_power = np.sum(fleet_data[:, 4] == max_weapon_power)\n",
    "print(\"Number of spaceships with the maximum weapon power:\", num_spaceships_max_power)"
   ]
  },
  {
   "cell_type": "markdown",
   "metadata": {},
   "source": [
    "#Fifth exercise: Find and print the mean speed of spaceships with the maximum weapon power."
   ]
  },
  {
   "cell_type": "code",
   "execution_count": 20,
   "metadata": {},
   "outputs": [
    {
     "name": "stdout",
     "output_type": "stream",
     "text": [
      "Mean speed of spaceships with the maximum weapon power: 2.75 km/s\n"
     ]
    }
   ],
   "source": [
    "max_weapon_power = np.max(fleet_data[:, 4])\n",
    "max_power_rows = fleet_data[fleet_data[:, 4] == max_weapon_power]\n",
    "mean_speed_max_power = np.mean(max_power_rows[:, 3])\n",
    "print(\"Mean speed of spaceships with the maximum weapon power:\", mean_speed_max_power, \"km/s\")"
   ]
  }
 ],
 "metadata": {
  "kernelspec": {
   "display_name": "Python 3",
   "language": "python",
   "name": "python3"
  },
  "language_info": {
   "codemirror_mode": {
    "name": "ipython",
    "version": 3
   },
   "file_extension": ".py",
   "mimetype": "text/x-python",
   "name": "python",
   "nbconvert_exporter": "python",
   "pygments_lexer": "ipython3",
   "version": "3.10.13"
  }
 },
 "nbformat": 4,
 "nbformat_minor": 2
}
